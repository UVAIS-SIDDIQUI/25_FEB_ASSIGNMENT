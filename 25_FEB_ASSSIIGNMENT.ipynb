{
 "cells": [
  {
   "cell_type": "code",
   "execution_count": 1,
   "id": "f08ce703-9e57-4e00-82ea-5e396a624858",
   "metadata": {},
   "outputs": [],
   "source": [
    "import pandas as pd\n"
   ]
  },
  {
   "cell_type": "code",
   "execution_count": 2,
   "id": "32cf08b9-028c-4dd1-80e1-50a84c706acc",
   "metadata": {},
   "outputs": [],
   "source": [
    "course_name = ['Data Science','Machine Learning', 'Big Data', 'Data Engineer']\n",
    "\n",
    "duration =  [2,3,6,4]\n",
    "\n",
    "df = pd.DataFrame(data = {'course_name' : course_name, 'duration' : duration})"
   ]
  },
  {
   "cell_type": "code",
   "execution_count": 3,
   "id": "a522caea-3d9d-46bc-adb9-1847309c5085",
   "metadata": {},
   "outputs": [
    {
     "data": {
      "text/html": [
       "<div>\n",
       "<style scoped>\n",
       "    .dataframe tbody tr th:only-of-type {\n",
       "        vertical-align: middle;\n",
       "    }\n",
       "\n",
       "    .dataframe tbody tr th {\n",
       "        vertical-align: top;\n",
       "    }\n",
       "\n",
       "    .dataframe thead th {\n",
       "        text-align: right;\n",
       "    }\n",
       "</style>\n",
       "<table border=\"1\" class=\"dataframe\">\n",
       "  <thead>\n",
       "    <tr style=\"text-align: right;\">\n",
       "      <th></th>\n",
       "      <th>course_name</th>\n",
       "      <th>duration</th>\n",
       "    </tr>\n",
       "  </thead>\n",
       "  <tbody>\n",
       "    <tr>\n",
       "      <th>0</th>\n",
       "      <td>Data Science</td>\n",
       "      <td>2</td>\n",
       "    </tr>\n",
       "    <tr>\n",
       "      <th>1</th>\n",
       "      <td>Machine Learning</td>\n",
       "      <td>3</td>\n",
       "    </tr>\n",
       "    <tr>\n",
       "      <th>2</th>\n",
       "      <td>Big Data</td>\n",
       "      <td>6</td>\n",
       "    </tr>\n",
       "    <tr>\n",
       "      <th>3</th>\n",
       "      <td>Data Engineer</td>\n",
       "      <td>4</td>\n",
       "    </tr>\n",
       "  </tbody>\n",
       "</table>\n",
       "</div>"
      ],
      "text/plain": [
       "        course_name  duration\n",
       "0      Data Science         2\n",
       "1  Machine Learning         3\n",
       "2          Big Data         6\n",
       "3     Data Engineer         4"
      ]
     },
     "execution_count": 3,
     "metadata": {},
     "output_type": "execute_result"
    }
   ],
   "source": [
    "df"
   ]
  },
  {
   "cell_type": "code",
   "execution_count": 4,
   "id": "88cd8f7f-0f8f-4927-9d66-9023346a6eda",
   "metadata": {},
   "outputs": [],
   "source": [
    "# Q1. Write a code to print the data present in the second row of the dataframe, df."
   ]
  },
  {
   "cell_type": "code",
   "execution_count": 5,
   "id": "7da6a4b2-b129-45ce-99fc-ad469badd38a",
   "metadata": {},
   "outputs": [
    {
     "data": {
      "text/html": [
       "<div>\n",
       "<style scoped>\n",
       "    .dataframe tbody tr th:only-of-type {\n",
       "        vertical-align: middle;\n",
       "    }\n",
       "\n",
       "    .dataframe tbody tr th {\n",
       "        vertical-align: top;\n",
       "    }\n",
       "\n",
       "    .dataframe thead th {\n",
       "        text-align: right;\n",
       "    }\n",
       "</style>\n",
       "<table border=\"1\" class=\"dataframe\">\n",
       "  <thead>\n",
       "    <tr style=\"text-align: right;\">\n",
       "      <th></th>\n",
       "      <th>course_name</th>\n",
       "      <th>duration</th>\n",
       "    </tr>\n",
       "  </thead>\n",
       "  <tbody>\n",
       "    <tr>\n",
       "      <th>0</th>\n",
       "      <td>Data Science</td>\n",
       "      <td>2</td>\n",
       "    </tr>\n",
       "    <tr>\n",
       "      <th>1</th>\n",
       "      <td>Machine Learning</td>\n",
       "      <td>3</td>\n",
       "    </tr>\n",
       "    <tr>\n",
       "      <th>2</th>\n",
       "      <td>Big Data</td>\n",
       "      <td>6</td>\n",
       "    </tr>\n",
       "    <tr>\n",
       "      <th>3</th>\n",
       "      <td>Data Engineer</td>\n",
       "      <td>4</td>\n",
       "    </tr>\n",
       "  </tbody>\n",
       "</table>\n",
       "</div>"
      ],
      "text/plain": [
       "        course_name  duration\n",
       "0      Data Science         2\n",
       "1  Machine Learning         3\n",
       "2          Big Data         6\n",
       "3     Data Engineer         4"
      ]
     },
     "execution_count": 5,
     "metadata": {},
     "output_type": "execute_result"
    }
   ],
   "source": [
    "df[:]"
   ]
  },
  {
   "cell_type": "code",
   "execution_count": 6,
   "id": "2fd4f849-06e8-4f49-90fa-7b37d164697b",
   "metadata": {},
   "outputs": [
    {
     "name": "stdout",
     "output_type": "stream",
     "text": [
      "course_name    Machine Learning\n",
      "duration                      3\n",
      "Name: 1, dtype: object\n"
     ]
    }
   ],
   "source": [
    "# Printing the data present in the second row of the DataFrame\n",
    "second_row = df.iloc[1]\n",
    "print(second_row)\n",
    "\n"
   ]
  },
  {
   "cell_type": "code",
   "execution_count": 7,
   "id": "c93c2287-57d6-434c-8e09-1adcee60d5c1",
   "metadata": {},
   "outputs": [],
   "source": [
    "# Q2. What is the difference between the functions loc and iloc in pandas.DataFrame?"
   ]
  },
  {
   "cell_type": "markdown",
   "id": "216e4b82-7e82-4e2d-ba40-5a22c793fc58",
   "metadata": {},
   "source": [
    "ANS =In Pandas, loc and iloc are both used to access data in a DataFrame, but they have some differences:\n",
    "\n",
    "1.loc:\n",
    "\n",
    "It is label-based indexing, meaning it selects data based on the labels of rows and columns.\n",
    "Uses explicit index (row and column labels) for selection.\n",
    "Syntax: df.loc[row_label, column_label]\n",
    "Inclusive when slicing ranges.\n",
    "\n",
    "\n",
    "2.iloc:\n",
    "\n",
    "It is integer-based indexing, meaning it selects data based on the integer position of rows and columns.\n",
    "Uses implicit index (position) for selection.\n",
    "Syntax: df.iloc[row_index, column_index]\n",
    "Exclusive when slicing ranges."
   ]
  },
  {
   "cell_type": "code",
   "execution_count": 8,
   "id": "48a2c9d1-22c7-46f3-a30a-9b7644923ead",
   "metadata": {},
   "outputs": [],
   "source": [
    "# Q3. Reindex the given dataframe using a variable, reindex = [3,0,1,2] and store it in the variable, new_df \n",
    "# then find the output for both new_df.loc[2] and new_df.iloc[2].\n",
    "\n",
    "# Did you observe any difference in both the outputs? If so then explain it.\n"
   ]
  },
  {
   "cell_type": "code",
   "execution_count": 9,
   "id": "54eb94d1-5886-40b6-9591-4a579bd34d27",
   "metadata": {},
   "outputs": [
    {
     "data": {
      "text/html": [
       "<div>\n",
       "<style scoped>\n",
       "    .dataframe tbody tr th:only-of-type {\n",
       "        vertical-align: middle;\n",
       "    }\n",
       "\n",
       "    .dataframe tbody tr th {\n",
       "        vertical-align: top;\n",
       "    }\n",
       "\n",
       "    .dataframe thead th {\n",
       "        text-align: right;\n",
       "    }\n",
       "</style>\n",
       "<table border=\"1\" class=\"dataframe\">\n",
       "  <thead>\n",
       "    <tr style=\"text-align: right;\">\n",
       "      <th></th>\n",
       "      <th>course_name</th>\n",
       "      <th>duration</th>\n",
       "    </tr>\n",
       "  </thead>\n",
       "  <tbody>\n",
       "    <tr>\n",
       "      <th>0</th>\n",
       "      <td>Data Science</td>\n",
       "      <td>2</td>\n",
       "    </tr>\n",
       "    <tr>\n",
       "      <th>1</th>\n",
       "      <td>Machine Learning</td>\n",
       "      <td>3</td>\n",
       "    </tr>\n",
       "    <tr>\n",
       "      <th>2</th>\n",
       "      <td>Big Data</td>\n",
       "      <td>6</td>\n",
       "    </tr>\n",
       "    <tr>\n",
       "      <th>3</th>\n",
       "      <td>Data Engineer</td>\n",
       "      <td>4</td>\n",
       "    </tr>\n",
       "  </tbody>\n",
       "</table>\n",
       "</div>"
      ],
      "text/plain": [
       "        course_name  duration\n",
       "0      Data Science         2\n",
       "1  Machine Learning         3\n",
       "2          Big Data         6\n",
       "3     Data Engineer         4"
      ]
     },
     "execution_count": 9,
     "metadata": {},
     "output_type": "execute_result"
    }
   ],
   "source": [
    "df"
   ]
  },
  {
   "cell_type": "code",
   "execution_count": 10,
   "id": "186c2ee0-5284-47cf-b253-8a86df705a25",
   "metadata": {},
   "outputs": [],
   "source": [
    "new_df=df.reindex([3,0,1,2])"
   ]
  },
  {
   "cell_type": "code",
   "execution_count": 11,
   "id": "6a17c9dd-c2c6-490b-902f-304ca1369451",
   "metadata": {},
   "outputs": [
    {
     "data": {
      "text/html": [
       "<div>\n",
       "<style scoped>\n",
       "    .dataframe tbody tr th:only-of-type {\n",
       "        vertical-align: middle;\n",
       "    }\n",
       "\n",
       "    .dataframe tbody tr th {\n",
       "        vertical-align: top;\n",
       "    }\n",
       "\n",
       "    .dataframe thead th {\n",
       "        text-align: right;\n",
       "    }\n",
       "</style>\n",
       "<table border=\"1\" class=\"dataframe\">\n",
       "  <thead>\n",
       "    <tr style=\"text-align: right;\">\n",
       "      <th></th>\n",
       "      <th>course_name</th>\n",
       "      <th>duration</th>\n",
       "    </tr>\n",
       "  </thead>\n",
       "  <tbody>\n",
       "    <tr>\n",
       "      <th>3</th>\n",
       "      <td>Data Engineer</td>\n",
       "      <td>4</td>\n",
       "    </tr>\n",
       "    <tr>\n",
       "      <th>0</th>\n",
       "      <td>Data Science</td>\n",
       "      <td>2</td>\n",
       "    </tr>\n",
       "    <tr>\n",
       "      <th>1</th>\n",
       "      <td>Machine Learning</td>\n",
       "      <td>3</td>\n",
       "    </tr>\n",
       "    <tr>\n",
       "      <th>2</th>\n",
       "      <td>Big Data</td>\n",
       "      <td>6</td>\n",
       "    </tr>\n",
       "  </tbody>\n",
       "</table>\n",
       "</div>"
      ],
      "text/plain": [
       "        course_name  duration\n",
       "3     Data Engineer         4\n",
       "0      Data Science         2\n",
       "1  Machine Learning         3\n",
       "2          Big Data         6"
      ]
     },
     "execution_count": 11,
     "metadata": {},
     "output_type": "execute_result"
    }
   ],
   "source": [
    "new_df"
   ]
  },
  {
   "cell_type": "code",
   "execution_count": 12,
   "id": "bbed2bd4-2a17-4b46-aaae-92314505a8d1",
   "metadata": {},
   "outputs": [
    {
     "data": {
      "text/plain": [
       "course_name    Big Data\n",
       "duration              6\n",
       "Name: 2, dtype: object"
      ]
     },
     "execution_count": 12,
     "metadata": {},
     "output_type": "execute_result"
    }
   ],
   "source": [
    "new_df.loc[2]"
   ]
  },
  {
   "cell_type": "code",
   "execution_count": 13,
   "id": "54225ef5-5570-4817-9186-6545d1d4835f",
   "metadata": {},
   "outputs": [
    {
     "data": {
      "text/plain": [
       "course_name    Machine Learning\n",
       "duration                      3\n",
       "Name: 1, dtype: object"
      ]
     },
     "execution_count": 13,
     "metadata": {},
     "output_type": "execute_result"
    }
   ],
   "source": [
    "new_df.iloc[2]"
   ]
  },
  {
   "cell_type": "markdown",
   "id": "b56f2e94-4aab-426b-9691-62da223d6a83",
   "metadata": {},
   "source": [
    "i observe that iloc take inbult indexes \n",
    "and loc take named indexes that \n",
    "\n",
    "out put of new_df.loc[2]:\n",
    "\n",
    "     course_name    Big Data\n",
    "     \n",
    "     duration              6\n",
    "     \n",
    "      Name: 2, dtype: object\n",
    "      \n",
    "\n",
    "out put of new_df.loc[2]:\n",
    "\n",
    "     course_name    Machine Learning\n",
    "     \n",
    "     duration                      3\n",
    "     \n",
    "     Name: 1, dtype: object"
   ]
  },
  {
   "cell_type": "code",
   "execution_count": 2,
   "id": "198af516-ffaa-4ca0-9dd1-f4f513bde73e",
   "metadata": {},
   "outputs": [],
   "source": [
    "import pandas as pd\n",
    "\n",
    "import numpy as np\n",
    "\n",
    "columns = ['column_1', 'column_2', 'column_3', 'column_4', 'column_5', 'column_6']\n",
    "\n",
    "indices = [1,2,3,4,5,6]\n",
    "\n",
    "df1 = pd.DataFrame(np.random.rand(6,6), columns = columns, index = indices)\n"
   ]
  },
  {
   "cell_type": "code",
   "execution_count": 15,
   "id": "0229dc74-16cd-46ba-9503-8b60fd1e3041",
   "metadata": {},
   "outputs": [
    {
     "data": {
      "text/html": [
       "<div>\n",
       "<style scoped>\n",
       "    .dataframe tbody tr th:only-of-type {\n",
       "        vertical-align: middle;\n",
       "    }\n",
       "\n",
       "    .dataframe tbody tr th {\n",
       "        vertical-align: top;\n",
       "    }\n",
       "\n",
       "    .dataframe thead th {\n",
       "        text-align: right;\n",
       "    }\n",
       "</style>\n",
       "<table border=\"1\" class=\"dataframe\">\n",
       "  <thead>\n",
       "    <tr style=\"text-align: right;\">\n",
       "      <th></th>\n",
       "      <th>column_1</th>\n",
       "      <th>column_2</th>\n",
       "      <th>column_3</th>\n",
       "      <th>column_4</th>\n",
       "      <th>column_5</th>\n",
       "      <th>column_6</th>\n",
       "    </tr>\n",
       "  </thead>\n",
       "  <tbody>\n",
       "    <tr>\n",
       "      <th>1</th>\n",
       "      <td>0.912537</td>\n",
       "      <td>0.813663</td>\n",
       "      <td>0.030610</td>\n",
       "      <td>0.591997</td>\n",
       "      <td>0.038438</td>\n",
       "      <td>0.374619</td>\n",
       "    </tr>\n",
       "    <tr>\n",
       "      <th>2</th>\n",
       "      <td>0.101082</td>\n",
       "      <td>0.218987</td>\n",
       "      <td>0.260462</td>\n",
       "      <td>0.247638</td>\n",
       "      <td>0.637485</td>\n",
       "      <td>0.367248</td>\n",
       "    </tr>\n",
       "    <tr>\n",
       "      <th>3</th>\n",
       "      <td>0.903458</td>\n",
       "      <td>0.695012</td>\n",
       "      <td>0.558332</td>\n",
       "      <td>0.514940</td>\n",
       "      <td>0.457112</td>\n",
       "      <td>0.375078</td>\n",
       "    </tr>\n",
       "    <tr>\n",
       "      <th>4</th>\n",
       "      <td>0.617577</td>\n",
       "      <td>0.132383</td>\n",
       "      <td>0.524901</td>\n",
       "      <td>0.332878</td>\n",
       "      <td>0.067004</td>\n",
       "      <td>0.621430</td>\n",
       "    </tr>\n",
       "    <tr>\n",
       "      <th>5</th>\n",
       "      <td>0.836083</td>\n",
       "      <td>0.049497</td>\n",
       "      <td>0.079359</td>\n",
       "      <td>0.199424</td>\n",
       "      <td>0.979063</td>\n",
       "      <td>0.083297</td>\n",
       "    </tr>\n",
       "    <tr>\n",
       "      <th>6</th>\n",
       "      <td>0.862956</td>\n",
       "      <td>0.646296</td>\n",
       "      <td>0.540151</td>\n",
       "      <td>0.607578</td>\n",
       "      <td>0.766045</td>\n",
       "      <td>0.984848</td>\n",
       "    </tr>\n",
       "  </tbody>\n",
       "</table>\n",
       "</div>"
      ],
      "text/plain": [
       "   column_1  column_2  column_3  column_4  column_5  column_6\n",
       "1  0.912537  0.813663  0.030610  0.591997  0.038438  0.374619\n",
       "2  0.101082  0.218987  0.260462  0.247638  0.637485  0.367248\n",
       "3  0.903458  0.695012  0.558332  0.514940  0.457112  0.375078\n",
       "4  0.617577  0.132383  0.524901  0.332878  0.067004  0.621430\n",
       "5  0.836083  0.049497  0.079359  0.199424  0.979063  0.083297\n",
       "6  0.862956  0.646296  0.540151  0.607578  0.766045  0.984848"
      ]
     },
     "execution_count": 15,
     "metadata": {},
     "output_type": "execute_result"
    }
   ],
   "source": [
    "df1"
   ]
  },
  {
   "cell_type": "code",
   "execution_count": 16,
   "id": "adc76593-59ab-4e20-afe4-fde74c5ee92e",
   "metadata": {},
   "outputs": [
    {
     "data": {
      "text/plain": [
       "Index(['column_1', 'column_2', 'column_3', 'column_4', 'column_5', 'column_6'], dtype='object')"
      ]
     },
     "execution_count": 16,
     "metadata": {},
     "output_type": "execute_result"
    }
   ],
   "source": [
    "df1.columns"
   ]
  },
  {
   "cell_type": "code",
   "execution_count": 17,
   "id": "93a8cb22-15c8-4406-a635-edbd3b7e4a58",
   "metadata": {},
   "outputs": [
    {
     "data": {
      "text/plain": [
       "0.3292416512229185"
      ]
     },
     "execution_count": 17,
     "metadata": {},
     "output_type": "execute_result"
    }
   ],
   "source": [
    "df1['column_2'].std()"
   ]
  },
  {
   "cell_type": "code",
   "execution_count": 18,
   "id": "5f1ed1f4-53a4-45c4-bcbe-4501e19461f3",
   "metadata": {},
   "outputs": [
    {
     "data": {
      "text/plain": [
       "column_1    0.315261\n",
       "column_2    0.329242\n",
       "column_3    0.241472\n",
       "column_4    0.178676\n",
       "column_5    0.379749\n",
       "column_6    0.305344\n",
       "dtype: float64"
      ]
     },
     "execution_count": 18,
     "metadata": {},
     "output_type": "execute_result"
    }
   ],
   "source": [
    "df1.std()"
   ]
  },
  {
   "cell_type": "code",
   "execution_count": 19,
   "id": "784398ed-b8af-40da-b05e-18d660c960f8",
   "metadata": {},
   "outputs": [],
   "source": [
    "# Q5. Replace the data present in the second row of column, ‘column_2’ by a string variable then find the \n",
    "# mean of column, column_2."
   ]
  },
  {
   "cell_type": "code",
   "execution_count": 20,
   "id": "ff25ac7d-028c-4a39-a371-f591fe38c560",
   "metadata": {},
   "outputs": [],
   "source": [
    "# Replacing the data in the second row of 'column_2' with a string variable\n",
    "string_variable = 'Hello'\n",
    "df1.loc[2, 'column_2'] = string_variable\n",
    "\n",
    "\n"
   ]
  },
  {
   "cell_type": "code",
   "execution_count": 21,
   "id": "5d9a34f4-cac9-46d4-9fd9-17530f06c5b3",
   "metadata": {},
   "outputs": [
    {
     "data": {
      "text/html": [
       "<div>\n",
       "<style scoped>\n",
       "    .dataframe tbody tr th:only-of-type {\n",
       "        vertical-align: middle;\n",
       "    }\n",
       "\n",
       "    .dataframe tbody tr th {\n",
       "        vertical-align: top;\n",
       "    }\n",
       "\n",
       "    .dataframe thead th {\n",
       "        text-align: right;\n",
       "    }\n",
       "</style>\n",
       "<table border=\"1\" class=\"dataframe\">\n",
       "  <thead>\n",
       "    <tr style=\"text-align: right;\">\n",
       "      <th></th>\n",
       "      <th>column_1</th>\n",
       "      <th>column_2</th>\n",
       "      <th>column_3</th>\n",
       "      <th>column_4</th>\n",
       "      <th>column_5</th>\n",
       "      <th>column_6</th>\n",
       "    </tr>\n",
       "  </thead>\n",
       "  <tbody>\n",
       "    <tr>\n",
       "      <th>1</th>\n",
       "      <td>0.912537</td>\n",
       "      <td>0.813663</td>\n",
       "      <td>0.030610</td>\n",
       "      <td>0.591997</td>\n",
       "      <td>0.038438</td>\n",
       "      <td>0.374619</td>\n",
       "    </tr>\n",
       "    <tr>\n",
       "      <th>2</th>\n",
       "      <td>0.101082</td>\n",
       "      <td>Hello</td>\n",
       "      <td>0.260462</td>\n",
       "      <td>0.247638</td>\n",
       "      <td>0.637485</td>\n",
       "      <td>0.367248</td>\n",
       "    </tr>\n",
       "    <tr>\n",
       "      <th>3</th>\n",
       "      <td>0.903458</td>\n",
       "      <td>0.695012</td>\n",
       "      <td>0.558332</td>\n",
       "      <td>0.514940</td>\n",
       "      <td>0.457112</td>\n",
       "      <td>0.375078</td>\n",
       "    </tr>\n",
       "    <tr>\n",
       "      <th>4</th>\n",
       "      <td>0.617577</td>\n",
       "      <td>0.132383</td>\n",
       "      <td>0.524901</td>\n",
       "      <td>0.332878</td>\n",
       "      <td>0.067004</td>\n",
       "      <td>0.621430</td>\n",
       "    </tr>\n",
       "    <tr>\n",
       "      <th>5</th>\n",
       "      <td>0.836083</td>\n",
       "      <td>0.049497</td>\n",
       "      <td>0.079359</td>\n",
       "      <td>0.199424</td>\n",
       "      <td>0.979063</td>\n",
       "      <td>0.083297</td>\n",
       "    </tr>\n",
       "    <tr>\n",
       "      <th>6</th>\n",
       "      <td>0.862956</td>\n",
       "      <td>0.646296</td>\n",
       "      <td>0.540151</td>\n",
       "      <td>0.607578</td>\n",
       "      <td>0.766045</td>\n",
       "      <td>0.984848</td>\n",
       "    </tr>\n",
       "  </tbody>\n",
       "</table>\n",
       "</div>"
      ],
      "text/plain": [
       "   column_1  column_2  column_3  column_4  column_5  column_6\n",
       "1  0.912537  0.813663  0.030610  0.591997  0.038438  0.374619\n",
       "2  0.101082     Hello  0.260462  0.247638  0.637485  0.367248\n",
       "3  0.903458  0.695012  0.558332  0.514940  0.457112  0.375078\n",
       "4  0.617577  0.132383  0.524901  0.332878  0.067004  0.621430\n",
       "5  0.836083  0.049497  0.079359  0.199424  0.979063  0.083297\n",
       "6  0.862956  0.646296  0.540151  0.607578  0.766045  0.984848"
      ]
     },
     "execution_count": 21,
     "metadata": {},
     "output_type": "execute_result"
    }
   ],
   "source": [
    "df1"
   ]
  },
  {
   "cell_type": "code",
   "execution_count": 22,
   "id": "79e4d866-f9a3-41a3-96b5-2208e93273a1",
   "metadata": {},
   "outputs": [],
   "source": [
    "#Q6. What do you understand about the windows function in pandas and list the types of windows \n",
    "# functions?"
   ]
  },
  {
   "cell_type": "markdown",
   "id": "ee1c53d7-8c47-4b4e-bb24-cbbd52e8c152",
   "metadata": {},
   "source": [
    "ANS = In Pandas, the window function is used in conjunction with DataFrame objects to perform calculations on a sliding window of data. It allows you to apply various functions (such as mean, sum, min, max, etc.) to a specified window of rows in your dataset.\n",
    "\n",
    "The window function can be applied using rolling(), which creates a rolling window object, or expanding(), which creates an expanding window object.\n",
    "\n",
    "\n",
    "\n",
    "There are some common types of window functions:\n",
    "\n",
    "1.Rolling Functions:- These operate on a fixed-size window of data and move through the DataFrame. Examples include:\n",
    "\n",
    "rolling().mean(): Calculates the rolling mean.\n",
    "\n",
    "rolling().sum(): Computes the rolling sum.\n",
    "\n",
    "rolling().min(), rolling().max(): Finds the rolling minimum and maximum values.\n",
    "\n",
    "rolling().std(), rolling().var(): Calculates the rolling standard deviation and variance.\n",
    "\n",
    "\n",
    "2.Expanding Functions:- These include cumulative calculations that grow the window size from the beginning to the current row. Examples include:\n",
    "\n",
    "expanding().mean(): Computes the expanding mean.\n",
    "\n",
    "expanding().sum(): Calculates the expanding sum.\n",
    "\n",
    "expanding().min(), expanding().max(): Finds the expanding minimum and maximum values.\n",
    "\n"
   ]
  },
  {
   "cell_type": "markdown",
   "id": "278079e8-a533-4b21-a775-7bb40c3abbbf",
   "metadata": {},
   "source": [
    "EXAMPLES:-"
   ]
  },
  {
   "cell_type": "code",
   "execution_count": 23,
   "id": "d5935017-e33b-4bf6-baf3-26ecf58c22ca",
   "metadata": {},
   "outputs": [
    {
     "data": {
      "text/plain": [
       "1    0.912537\n",
       "2    0.101082\n",
       "3    0.903458\n",
       "4    0.617577\n",
       "5    0.836083\n",
       "6    0.862956\n",
       "Name: column_1, dtype: float64"
      ]
     },
     "execution_count": 23,
     "metadata": {},
     "output_type": "execute_result"
    }
   ],
   "source": [
    "df1['column_1']"
   ]
  },
  {
   "cell_type": "code",
   "execution_count": 24,
   "id": "4b621f53-ce56-4313-82de-27922a8156ae",
   "metadata": {},
   "outputs": [
    {
     "data": {
      "text/plain": [
       "1         NaN\n",
       "2    0.506809\n",
       "3    0.502270\n",
       "4    0.760518\n",
       "5    0.726830\n",
       "6    0.849519\n",
       "Name: column_1, dtype: float64"
      ]
     },
     "execution_count": 24,
     "metadata": {},
     "output_type": "execute_result"
    }
   ],
   "source": [
    "df1['column_1'].rolling(window=2).mean()"
   ]
  },
  {
   "cell_type": "code",
   "execution_count": 25,
   "id": "c3323236-a49b-45d5-8fdc-452daaeec755",
   "metadata": {},
   "outputs": [
    {
     "data": {
      "text/plain": [
       "1         NaN\n",
       "2         NaN\n",
       "3    0.912537\n",
       "4    0.903458\n",
       "5    0.903458\n",
       "6    0.862956\n",
       "Name: column_1, dtype: float64"
      ]
     },
     "execution_count": 25,
     "metadata": {},
     "output_type": "execute_result"
    }
   ],
   "source": [
    "df1['column_1'].rolling(window=3).max()"
   ]
  },
  {
   "cell_type": "code",
   "execution_count": 26,
   "id": "3aaa2178-74a1-4399-9dd6-3ad3d60d0c79",
   "metadata": {},
   "outputs": [
    {
     "data": {
      "text/plain": [
       "1         NaN\n",
       "2         NaN\n",
       "3    1.917077\n",
       "4    1.622118\n",
       "5    2.357118\n",
       "6    2.316615\n",
       "Name: column_1, dtype: float64"
      ]
     },
     "execution_count": 26,
     "metadata": {},
     "output_type": "execute_result"
    }
   ],
   "source": [
    "df1['column_1'].rolling(window=3).sum()"
   ]
  },
  {
   "cell_type": "code",
   "execution_count": 27,
   "id": "ae5084a4-e182-4f36-b990-7156c9d0b1e5",
   "metadata": {},
   "outputs": [
    {
     "data": {
      "text/plain": [
       "1    0.912537\n",
       "2    1.013619\n",
       "3    1.917077\n",
       "4    2.534654\n",
       "5    3.370737\n",
       "6    4.233692\n",
       "Name: column_1, dtype: float64"
      ]
     },
     "execution_count": 27,
     "metadata": {},
     "output_type": "execute_result"
    }
   ],
   "source": [
    "df1['column_1'].expanding().sum()"
   ]
  },
  {
   "cell_type": "code",
   "execution_count": 28,
   "id": "f0084e3d-35aa-4699-bdf9-f4980518dd21",
   "metadata": {},
   "outputs": [
    {
     "data": {
      "text/plain": [
       "1    0.912537\n",
       "2    0.101082\n",
       "3    0.101082\n",
       "4    0.101082\n",
       "5    0.101082\n",
       "6    0.101082\n",
       "Name: column_1, dtype: float64"
      ]
     },
     "execution_count": 28,
     "metadata": {},
     "output_type": "execute_result"
    }
   ],
   "source": [
    "df1['column_1'].expanding().min()"
   ]
  },
  {
   "cell_type": "code",
   "execution_count": 29,
   "id": "7b647ebe-c506-4cc3-8bec-ba4411e1026c",
   "metadata": {},
   "outputs": [],
   "source": [
    "# Q7. Write a code to print only the current month and year at the time of answering this question.\n",
    "\n",
    "# [Hint: Use pandas.datetime function]"
   ]
  },
  {
   "cell_type": "code",
   "execution_count": 30,
   "id": "53ee4230-74d1-486b-98ec-bcccdc94a22b",
   "metadata": {},
   "outputs": [],
   "source": [
    "dt=pd.DataFrame({'date':['2023-11-18','2023-11-18','2023-11-18']})"
   ]
  },
  {
   "cell_type": "code",
   "execution_count": 31,
   "id": "bd745892-cae5-43cf-b194-6e921570c10a",
   "metadata": {},
   "outputs": [
    {
     "data": {
      "text/html": [
       "<div>\n",
       "<style scoped>\n",
       "    .dataframe tbody tr th:only-of-type {\n",
       "        vertical-align: middle;\n",
       "    }\n",
       "\n",
       "    .dataframe tbody tr th {\n",
       "        vertical-align: top;\n",
       "    }\n",
       "\n",
       "    .dataframe thead th {\n",
       "        text-align: right;\n",
       "    }\n",
       "</style>\n",
       "<table border=\"1\" class=\"dataframe\">\n",
       "  <thead>\n",
       "    <tr style=\"text-align: right;\">\n",
       "      <th></th>\n",
       "      <th>date</th>\n",
       "    </tr>\n",
       "  </thead>\n",
       "  <tbody>\n",
       "    <tr>\n",
       "      <th>0</th>\n",
       "      <td>2023-11-18</td>\n",
       "    </tr>\n",
       "    <tr>\n",
       "      <th>1</th>\n",
       "      <td>2023-11-18</td>\n",
       "    </tr>\n",
       "    <tr>\n",
       "      <th>2</th>\n",
       "      <td>2023-11-18</td>\n",
       "    </tr>\n",
       "  </tbody>\n",
       "</table>\n",
       "</div>"
      ],
      "text/plain": [
       "         date\n",
       "0  2023-11-18\n",
       "1  2023-11-18\n",
       "2  2023-11-18"
      ]
     },
     "execution_count": 31,
     "metadata": {},
     "output_type": "execute_result"
    }
   ],
   "source": [
    "dt"
   ]
  },
  {
   "cell_type": "code",
   "execution_count": 32,
   "id": "19135a9f-1972-438b-90f0-faa0494afce5",
   "metadata": {},
   "outputs": [
    {
     "data": {
      "text/plain": [
       "date    object\n",
       "dtype: object"
      ]
     },
     "execution_count": 32,
     "metadata": {},
     "output_type": "execute_result"
    }
   ],
   "source": [
    "dt.dtypes"
   ]
  },
  {
   "cell_type": "code",
   "execution_count": 33,
   "id": "017fcb82-e7d8-4f31-8aff-818d74eb6478",
   "metadata": {},
   "outputs": [],
   "source": [
    "dt['date']=pd.to_datetime(dt['date'])"
   ]
  },
  {
   "cell_type": "code",
   "execution_count": 34,
   "id": "802c4e51-59f1-4873-baae-c41d03df1f8d",
   "metadata": {},
   "outputs": [
    {
     "data": {
      "text/html": [
       "<div>\n",
       "<style scoped>\n",
       "    .dataframe tbody tr th:only-of-type {\n",
       "        vertical-align: middle;\n",
       "    }\n",
       "\n",
       "    .dataframe tbody tr th {\n",
       "        vertical-align: top;\n",
       "    }\n",
       "\n",
       "    .dataframe thead th {\n",
       "        text-align: right;\n",
       "    }\n",
       "</style>\n",
       "<table border=\"1\" class=\"dataframe\">\n",
       "  <thead>\n",
       "    <tr style=\"text-align: right;\">\n",
       "      <th></th>\n",
       "      <th>date</th>\n",
       "    </tr>\n",
       "  </thead>\n",
       "  <tbody>\n",
       "    <tr>\n",
       "      <th>0</th>\n",
       "      <td>2023-11-18</td>\n",
       "    </tr>\n",
       "    <tr>\n",
       "      <th>1</th>\n",
       "      <td>2023-11-18</td>\n",
       "    </tr>\n",
       "    <tr>\n",
       "      <th>2</th>\n",
       "      <td>2023-11-18</td>\n",
       "    </tr>\n",
       "  </tbody>\n",
       "</table>\n",
       "</div>"
      ],
      "text/plain": [
       "        date\n",
       "0 2023-11-18\n",
       "1 2023-11-18\n",
       "2 2023-11-18"
      ]
     },
     "execution_count": 34,
     "metadata": {},
     "output_type": "execute_result"
    }
   ],
   "source": [
    "dt"
   ]
  },
  {
   "cell_type": "code",
   "execution_count": 35,
   "id": "008f3211-1d63-4d32-bc33-a3b7864d1f59",
   "metadata": {},
   "outputs": [
    {
     "data": {
      "text/plain": [
       "date    datetime64[ns]\n",
       "dtype: object"
      ]
     },
     "execution_count": 35,
     "metadata": {},
     "output_type": "execute_result"
    }
   ],
   "source": [
    "dt.dtypes"
   ]
  },
  {
   "cell_type": "code",
   "execution_count": 36,
   "id": "c88eb83b-8619-4f3d-bca6-7c6de0e062b4",
   "metadata": {},
   "outputs": [
    {
     "data": {
      "text/html": [
       "<div>\n",
       "<style scoped>\n",
       "    .dataframe tbody tr th:only-of-type {\n",
       "        vertical-align: middle;\n",
       "    }\n",
       "\n",
       "    .dataframe tbody tr th {\n",
       "        vertical-align: top;\n",
       "    }\n",
       "\n",
       "    .dataframe thead th {\n",
       "        text-align: right;\n",
       "    }\n",
       "</style>\n",
       "<table border=\"1\" class=\"dataframe\">\n",
       "  <thead>\n",
       "    <tr style=\"text-align: right;\">\n",
       "      <th></th>\n",
       "      <th>date</th>\n",
       "    </tr>\n",
       "  </thead>\n",
       "  <tbody>\n",
       "    <tr>\n",
       "      <th>0</th>\n",
       "      <td>2023-11-18</td>\n",
       "    </tr>\n",
       "    <tr>\n",
       "      <th>1</th>\n",
       "      <td>2023-11-18</td>\n",
       "    </tr>\n",
       "    <tr>\n",
       "      <th>2</th>\n",
       "      <td>2023-11-18</td>\n",
       "    </tr>\n",
       "  </tbody>\n",
       "</table>\n",
       "</div>"
      ],
      "text/plain": [
       "        date\n",
       "0 2023-11-18\n",
       "1 2023-11-18\n",
       "2 2023-11-18"
      ]
     },
     "execution_count": 36,
     "metadata": {},
     "output_type": "execute_result"
    }
   ],
   "source": [
    "dt"
   ]
  },
  {
   "cell_type": "code",
   "execution_count": 37,
   "id": "d1cdb8a5-06ba-4fe5-9485-8a2fa21b6429",
   "metadata": {},
   "outputs": [],
   "source": [
    "dt['month']=dt['date'].dt.month"
   ]
  },
  {
   "cell_type": "code",
   "execution_count": 38,
   "id": "9246c6c3-b9c6-45c7-a4ad-d406d4385b36",
   "metadata": {},
   "outputs": [],
   "source": [
    "dt['year']=dt['date'].dt.year"
   ]
  },
  {
   "cell_type": "code",
   "execution_count": 39,
   "id": "d0a27fe4-505f-4f79-8376-ba3a0ee87876",
   "metadata": {},
   "outputs": [
    {
     "data": {
      "text/html": [
       "<div>\n",
       "<style scoped>\n",
       "    .dataframe tbody tr th:only-of-type {\n",
       "        vertical-align: middle;\n",
       "    }\n",
       "\n",
       "    .dataframe tbody tr th {\n",
       "        vertical-align: top;\n",
       "    }\n",
       "\n",
       "    .dataframe thead th {\n",
       "        text-align: right;\n",
       "    }\n",
       "</style>\n",
       "<table border=\"1\" class=\"dataframe\">\n",
       "  <thead>\n",
       "    <tr style=\"text-align: right;\">\n",
       "      <th></th>\n",
       "      <th>date</th>\n",
       "      <th>month</th>\n",
       "      <th>year</th>\n",
       "    </tr>\n",
       "  </thead>\n",
       "  <tbody>\n",
       "    <tr>\n",
       "      <th>0</th>\n",
       "      <td>2023-11-18</td>\n",
       "      <td>11</td>\n",
       "      <td>2023</td>\n",
       "    </tr>\n",
       "    <tr>\n",
       "      <th>1</th>\n",
       "      <td>2023-11-18</td>\n",
       "      <td>11</td>\n",
       "      <td>2023</td>\n",
       "    </tr>\n",
       "    <tr>\n",
       "      <th>2</th>\n",
       "      <td>2023-11-18</td>\n",
       "      <td>11</td>\n",
       "      <td>2023</td>\n",
       "    </tr>\n",
       "  </tbody>\n",
       "</table>\n",
       "</div>"
      ],
      "text/plain": [
       "        date  month  year\n",
       "0 2023-11-18     11  2023\n",
       "1 2023-11-18     11  2023\n",
       "2 2023-11-18     11  2023"
      ]
     },
     "execution_count": 39,
     "metadata": {},
     "output_type": "execute_result"
    }
   ],
   "source": [
    "dt"
   ]
  },
  {
   "cell_type": "code",
   "execution_count": 40,
   "id": "9e548b33-5e44-4709-ae7a-2dbf6dc23961",
   "metadata": {},
   "outputs": [],
   "source": [
    "# Q8. Write a Python program that takes in two dates as input (in the format YYYY-MM-DD) and \n",
    "# calculates the difference between them in days, hours, and minutes using Pandas time delta. The \n",
    "# program should prompt the user to enter the dates and display the result."
   ]
  },
  {
   "cell_type": "code",
   "execution_count": 41,
   "id": "a8ec0167-6c12-4320-b52c-81f73d2e471a",
   "metadata": {},
   "outputs": [
    {
     "name": "stdin",
     "output_type": "stream",
     "text": [
      "Enter the first date (YYYY-MM-DD):  2023-11-17\n",
      "Enter the second date (YYYY-MM-DD):  2023-11-18\n"
     ]
    },
    {
     "name": "stdout",
     "output_type": "stream",
     "text": [
      "Time difference: 1 days, 0 hours, 0 minutes\n"
     ]
    }
   ],
   "source": [
    "def calculate_time_difference():\n",
    "    date1 = input(\"Enter the first date (YYYY-MM-DD): \")\n",
    "    date2 = input(\"Enter the second date (YYYY-MM-DD): \")\n",
    "    \n",
    "    date1 = pd.to_datetime(date1)\n",
    "    date2 = pd.to_datetime(date2)\n",
    "    \n",
    "    \n",
    "    time_diff = date2 - date1\n",
    "    \n",
    "    print(f\"Time difference: {time_diff.days} days, {time_diff.seconds // 3600} hours, {time_diff.seconds % 3600 // 60} minutes\")\n",
    "\n",
    "\n",
    "calculate_time_difference()"
   ]
  },
  {
   "cell_type": "code",
   "execution_count": 43,
   "id": "8e5e18c9-c4f3-411f-b932-9a0ffc7a5747",
   "metadata": {},
   "outputs": [],
   "source": [
    "# Q9. Write a Python program that reads a CSV file containing categorical data and converts a specified \n",
    "# column to a categorical data type. The program should prompt the user to enter the file path, column \n",
    "# name, and category order, and then display the sorted data."
   ]
  },
  {
   "cell_type": "code",
   "execution_count": 5,
   "id": "20e700f3-7677-4ed4-ad2c-245ea11a3d26",
   "metadata": {},
   "outputs": [
    {
     "name": "stdin",
     "output_type": "stream",
     "text": [
      "Enter the file path of the CSV file:  taxonomy.csv.xls.csv\n",
      "Enter the column name to convert to categorical:  parent_id\n",
      "Enter the category order (comma-separated):  \n"
     ]
    },
    {
     "name": "stdout",
     "output_type": "stream",
     "text": [
      "Sorted Data:\n",
      "    taxonomy_id                          name parent_id           parent_name\n",
      "0           101                     Emergency       NaN                   NaN\n",
      "1        101-01             Disaster Response       NaN             Emergency\n",
      "2        101-02                Emergency Cash       NaN             Emergency\n",
      "3    0101-02-01             Help Pay for Food       NaN        Emergency Cash\n",
      "4    0101-02-02       Help Pay for Healthcare       NaN        Emergency Cash\n",
      "..          ...                           ...       ...                   ...\n",
      "285  0111-01-07              Workplace Rights       NaN  Advocacy & Legal Aid\n",
      "286      111-02                     Mediation       NaN                 Legal\n",
      "287      111-03                        Notary       NaN                 Legal\n",
      "288      111-04                Representation       NaN                 Legal\n",
      "289      111-05  Translation & Interpretation       NaN                 Legal\n",
      "\n",
      "[290 rows x 4 columns]\n"
     ]
    }
   ],
   "source": [
    "import pandas as pd\n",
    "\n",
    "def convert_to_categorical(file_path, column_name, category_order):\n",
    "    try:\n",
    "        \n",
    "        data = pd.read_csv(file_path)\n",
    "    except FileNotFoundError:\n",
    "        print(\"File not found. Please check the file path.\")\n",
    "        return\n",
    "    \n",
    "    try:\n",
    "        \n",
    "        data[column_name] = pd.Categorical(data[column_name], categories=category_order, ordered=True)\n",
    "    except KeyError:\n",
    "        print(\"Column name not found in the CSV file.\")\n",
    "        return\n",
    "    \n",
    "    \n",
    "    sorted_data = data.sort_values(by=column_name)\n",
    "    print(\"Sorted Data:\")\n",
    "    print(sorted_data)\n",
    "\n",
    "if __name__ == \"__main__\":\n",
    "    file_path = input(\"Enter the file path of the CSV file: \")\n",
    "    column_name = input(\"Enter the column name to convert to categorical: \")\n",
    "    category_order = input(\"Enter the category order (comma-separated): \").split(',')\n",
    "\n",
    "    convert_to_categorical(file_path, column_name, category_order)\n"
   ]
  },
  {
   "cell_type": "code",
   "execution_count": 1,
   "id": "6ecba6f3-453a-49f4-bee9-348f2b76a9e8",
   "metadata": {},
   "outputs": [],
   "source": [
    "# Q10. Write a Python program that reads a CSV file containing sales data for different products and \n",
    "# visualizes the data using a stacked bar chart to show the sales of each product category over time. The \n",
    "# program should prompt the user to enter the file path and display the chart."
   ]
  },
  {
   "cell_type": "code",
   "execution_count": 11,
   "id": "26adf702-e15e-47ff-8a24-757fa78d5cd9",
   "metadata": {},
   "outputs": [
    {
     "name": "stdin",
     "output_type": "stream",
     "text": [
      "Enter the file path of the CSV file containing sales data:  new_abnormal_orders.csv\n"
     ]
    },
    {
     "name": "stdout",
     "output_type": "stream",
     "text": [
      "Required columns not found in the CSV file.\n"
     ]
    }
   ],
   "source": [
    "import pandas as pd\n",
    "import matplotlib.pyplot as plt\n",
    "\n",
    "def visualize_sales_data(file_path):\n",
    "    try:\n",
    "        # Read the CSV file\n",
    "        data = pd.read_csv(file_path)\n",
    "    except FileNotFoundError:\n",
    "        print(\"File not found. Please check the file path.\")\n",
    "        return\n",
    "    \n",
    "   \n",
    "    try:\n",
    "        \n",
    "        data['Date'] = pd.to_datetime(data['Date'])\n",
    "        \n",
    "        \n",
    "        grouped_data = data.groupby(['Date', 'Product_Category'])['Sales'].sum().unstack(fill_value=0)\n",
    "        \n",
    "       \n",
    "        grouped_data.plot(kind='bar', stacked=True, figsize=(10, 6))\n",
    "        plt.xlabel('Date')\n",
    "        plt.ylabel('Sales')\n",
    "        plt.title('Sales of Each Product Category Over Time')\n",
    "        plt.legend(title='Product Category')\n",
    "        plt.show()\n",
    "    except KeyError:\n",
    "        print(\"Required columns not found in the CSV file.\")\n",
    "        return\n",
    "\n",
    "if __name__ == \"__main__\":\n",
    "    file_path = input(\"Enter the file path of the CSV file containing sales data: \")\n",
    "    visualize_sales_data(file_path)\n"
   ]
  },
  {
   "cell_type": "code",
   "execution_count": 3,
   "id": "c85c3a8e-29ea-4118-a651-2dab5bcf3b47",
   "metadata": {},
   "outputs": [],
   "source": [
    "# Q11. You are given a CSV file containing student data that includes the student ID and their test score. Write \n",
    "# a Python program that reads the CSV file, calculates the mean, median, and mode of the test scores, and \n",
    "# displays the results in a table.\n",
    "# The program should do the following:\n",
    "#   Prompt the user to enter the file path of the CSV file containing the student dataR\n",
    "#   Read the CSV file into a Pandas DataFrameR\n",
    "#   Calculate the mean, median, and mode of the test scores using Pandas toolsR\n",
    "#   Display the mean, median, and mode in a table."
   ]
  },
  {
   "cell_type": "code",
   "execution_count": null,
   "id": "6ff41ef3-e44f-42ce-b220-d826f5fb536f",
   "metadata": {},
   "outputs": [],
   "source": [
    "def calculate_statistics(file_path):\n",
    "    try:\n",
    "        # Read the CSV file\n",
    "        data = pd.read_csv(file_path)\n",
    "    except FileNotFoundError:\n",
    "        print(\"File not found. Please check the file path.\")\n",
    "        return\n",
    "    \n",
    "    \n",
    "    try:\n",
    "       \n",
    "        mean_score = data['Test_Score'].mean()\n",
    "        median_score = data['Test_Score'].median()\n",
    "        mode_score = data['Test_Score'].mode()\n",
    "        \n",
    "       \n",
    "        stats_table = pd.DataFrame({\n",
    "            'Statistic': ['Mean', 'Median', 'Mode'],\n",
    "            'Score': [mean_score, median_score, mode_score[0] if len(mode_score) > 0 else None]\n",
    "        })\n",
    "        print(\"Statistics of Test Scores:\")\n",
    "        print(stats_table.to_string(index=False)) \n",
    "    except KeyError:\n",
    "        print(\"Required columns not found in the CSV file.\")\n",
    "        return\n",
    "\n",
    "if __name__ == \"__main__\":\n",
    "    file_path = input(\"Enter the file path of the CSV file containing student data: \")\n",
    "    calculate_statistics(file_path)\n"
   ]
  },
  {
   "cell_type": "code",
   "execution_count": null,
   "id": "6bd17f3c-1c5f-482d-b145-e7bb766c17fc",
   "metadata": {},
   "outputs": [],
   "source": []
  }
 ],
 "metadata": {
  "kernelspec": {
   "display_name": "Python 3 (ipykernel)",
   "language": "python",
   "name": "python3"
  },
  "language_info": {
   "codemirror_mode": {
    "name": "ipython",
    "version": 3
   },
   "file_extension": ".py",
   "mimetype": "text/x-python",
   "name": "python",
   "nbconvert_exporter": "python",
   "pygments_lexer": "ipython3",
   "version": "3.10.8"
  }
 },
 "nbformat": 4,
 "nbformat_minor": 5
}
